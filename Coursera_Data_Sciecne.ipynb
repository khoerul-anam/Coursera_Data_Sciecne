{
  "nbformat": 4,
  "nbformat_minor": 0,
  "metadata": {
    "colab": {
      "provenance": []
    },
    "kernelspec": {
      "name": "python3",
      "display_name": "Python 3"
    },
    "language_info": {
      "name": "python"
    }
  },
  "cells": [
    {
      "cell_type": "markdown",
      "source": [
        "# Data Science Final Project\n"
      ],
      "metadata": {
        "id": "c61eulXxwy0u"
      }
    },
    {
      "cell_type": "markdown",
      "source": [
        "## Introduction\n",
        "\n",
        "In this notebook, we will explore some essential concepts in data science, including popular programming languages, libraries, and tools used in the field. We will also look at basic arithmetic operations and examples to showcase how coding in data science can be applied.\n"
      ],
      "metadata": {
        "id": "GAQlli3kw3hC"
      }
    },
    {
      "cell_type": "markdown",
      "source": [
        "## Data Science Languages\n",
        "\n",
        "- Python\n",
        "- R\n",
        "- SQL\n",
        "- Julia\n",
        "- Scala\n"
      ],
      "metadata": {
        "id": "bC6P2-p8w7N_"
      }
    },
    {
      "cell_type": "markdown",
      "source": [
        "## Data Science Libraries\n",
        "\n",
        "- NumPy\n",
        "- Pandas\n",
        "- Matplotlib\n",
        "- Scikit-learn\n",
        "- TensorFlow\n",
        "- Keras\n",
        "- PyTorch\n"
      ],
      "metadata": {
        "id": "3LOpUZWdxF9U"
      }
    },
    {
      "cell_type": "markdown",
      "source": [
        "## Data Science Tools\n",
        "\n",
        "| Tool          | Purpose                  |\n",
        "|---------------|--------------------------|\n",
        "| Jupyter       | Interactive computing     |\n",
        "| RStudio       | R programming environment |\n",
        "| Tableau       | Data visualization        |\n",
        "| Apache Spark  | Big data processing       |\n",
        "| Hadoop        | Big data storage          |\n"
      ],
      "metadata": {
        "id": "cGjzqw47xJ1c"
      }
    },
    {
      "cell_type": "markdown",
      "source": [
        "## Arithmetic Expression Examples\n",
        "\n",
        "In this section, we will explore basic arithmetic operations such as addition, subtraction, multiplication, and division.\n"
      ],
      "metadata": {
        "id": "grwzSuCfxMkJ"
      }
    },
    {
      "cell_type": "code",
      "execution_count": 1,
      "metadata": {
        "colab": {
          "base_uri": "https://localhost:8080/"
        },
        "id": "_Usj-8cWwuVA",
        "outputId": "1583e462-888f-4457-8468-9ce1fb525351"
      },
      "outputs": [
        {
          "output_type": "execute_result",
          "data": {
            "text/plain": [
              "(50, 15)"
            ]
          },
          "metadata": {},
          "execution_count": 1
        }
      ],
      "source": [
        "# Multiplication and addition example\n",
        "a = 5\n",
        "b = 10\n",
        "\n",
        "# Multiply\n",
        "multiplication_result = a * b\n",
        "\n",
        "# Add\n",
        "addition_result = a + b\n",
        "\n",
        "multiplication_result, addition_result\n"
      ]
    },
    {
      "cell_type": "code",
      "source": [
        "# Function to convert minutes to hours\n",
        "def convert_minutes_to_hours(minutes):\n",
        "    return minutes / 60\n",
        "\n",
        "# Example: Convert 120 minutes to hours\n",
        "convert_minutes_to_hours(120)\n"
      ],
      "metadata": {
        "colab": {
          "base_uri": "https://localhost:8080/"
        },
        "id": "M9tDDF8cxPgg",
        "outputId": "afa6573e-5ce4-4cde-f338-b4b0ad1575c3"
      },
      "execution_count": 2,
      "outputs": [
        {
          "output_type": "execute_result",
          "data": {
            "text/plain": [
              "2.0"
            ]
          },
          "metadata": {},
          "execution_count": 2
        }
      ]
    },
    {
      "cell_type": "markdown",
      "source": [
        "## Objectives\n",
        "\n",
        "1. Understand popular data science programming languages and libraries.\n",
        "2. Learn about key data science tools used in the industry.\n",
        "3. Understand basic arithmetic operations in Python.\n",
        "4. Learn how to convert minutes to hours using Python.\n"
      ],
      "metadata": {
        "id": "VjPO7lVrxSKx"
      }
    },
    {
      "cell_type": "markdown",
      "source": [
        "## Author\n",
        "\n",
        "This notebook was created by Khoerul Anam.\n"
      ],
      "metadata": {
        "id": "sletv0IuxUJk"
      }
    }
  ]
}